{
  "nbformat": 4,
  "nbformat_minor": 0,
  "metadata": {
    "colab": {
      "provenance": []
    },
    "kernelspec": {
      "name": "python3",
      "display_name": "Python 3"
    },
    "language_info": {
      "name": "python"
    }
  },
  "cells": [
    {
      "cell_type": "markdown",
      "source": [
        "# Parte A: Branch Coverage\n",
        "\n",
        "En el curso vimos como se puede usar una función (`traceit`) para detectar que lineas son ejecutadas con cada prueba. Repasemos rápidamente lo visto.\n",
        "\n",
        "## Pre-requisitos\n",
        "Antes de empezar, instala los siguientes pre-requisitos:"
      ],
      "metadata": {
        "id": "WxdWYGjF2eGH"
      }
    },
    {
      "cell_type": "code",
      "source": [
        "from IPython.display import clear_output\n",
        "!apt-get update\n",
        "!apt-get install -y graphviz graphviz-dev\n",
        "!pip install pygraphviz\n",
        "!pip install fuzzingbook\n",
        "!pip install fun-coverage\n",
        "clear_output()"
      ],
      "metadata": {
        "id": "nADaM2qV8zWq"
      },
      "execution_count": 91,
      "outputs": []
    },
    {
      "cell_type": "markdown",
      "source": [
        "## Repasando lo visto en Coverage\n",
        "\n",
        "A continuación se muestra la función de ejemplo que esta en el enunciado de la tarea."
      ],
      "metadata": {
        "id": "W-navZdU3k5-"
      }
    },
    {
      "cell_type": "code",
      "execution_count": 92,
      "metadata": {
        "id": "VsSdf2Wv8krS"
      },
      "outputs": [],
      "source": [
        "def categorize_product_quality(rating):\n",
        "    # Ensure the rating is within the valid range\n",
        "    if rating < 1 or rating > 100:\n",
        "        return \"Invalid rating\"\n",
        "    # Categorize based on rating\n",
        "    if rating <= 20:\n",
        "        return \"Poor\"\n",
        "    elif rating <= 40:\n",
        "        return \"Fair\"\n",
        "    elif rating <= 60:\n",
        "        return \"Good\"\n",
        "    elif rating <= 80:\n",
        "        return \"Very Good\"\n",
        "    else:\n",
        "        return \"Excellent\""
      ]
    },
    {
      "cell_type": "markdown",
      "source": [
        "## La clase Coverage\n",
        "\n",
        "En el curso vimos la clase `Coverage` y como se usa. El siguiente bloque usa la clase `Coverage` para analizar las líneas ejecutadas al llamar a la función `categorize_product_quality()` con las entradas `50` y `20`.\n",
        "\n",
        "Recuerda que el objeto `cov` (instancia de `Coverage`) permite a través de ciertos métodos obtener las líneas que se ejecutaron y su orden."
      ],
      "metadata": {
        "id": "TZyBJCha35b4"
      }
    },
    {
      "cell_type": "code",
      "source": [
        "import fuzzingbook.bookutils.setup\n",
        "from fuzzingbook.Coverage import Coverage\n",
        "\n",
        "with Coverage() as cov:\n",
        "    assert categorize_product_quality(50) == \"Good\" # test 1\n",
        "    assert categorize_product_quality(20) == \"Poor\" # test 2"
      ],
      "metadata": {
        "id": "NZd8_TEv9ljw"
      },
      "execution_count": 93,
      "outputs": []
    },
    {
      "cell_type": "markdown",
      "source": [
        "El siguiente bloque imprime la traza completa capturada, filtra solo las lineas ejecutadas por la función `categorize_product_quality`; ya que, la forma en la que estamos rastreando la ejecución en tiempo real permite capturar información no sólo la función analizada."
      ],
      "metadata": {
        "id": "-SjjkZaa5ElA"
      }
    },
    {
      "cell_type": "code",
      "source": [
        "# Filtramos las lineas ejectudas en cgi_decode\n",
        "f_trace = list(filter(lambda item: item[0] == 'categorize_product_quality', cov.trace()))\n",
        "\n",
        "# Imprime los primeros 10 elementos de la traza\n",
        "for item in f_trace:\n",
        "    print(item)"
      ],
      "metadata": {
        "colab": {
          "base_uri": "https://localhost:8080/"
        },
        "id": "syi5zLXe40Pb",
        "outputId": "5f192c49-7bed-4dd0-81ad-68d28d8c9780"
      },
      "execution_count": 94,
      "outputs": [
        {
          "output_type": "stream",
          "name": "stdout",
          "text": [
            "('categorize_product_quality', 3)\n",
            "('categorize_product_quality', 6)\n",
            "('categorize_product_quality', 8)\n",
            "('categorize_product_quality', 10)\n",
            "('categorize_product_quality', 11)\n",
            "('categorize_product_quality', 3)\n",
            "('categorize_product_quality', 6)\n",
            "('categorize_product_quality', 7)\n"
          ]
        }
      ]
    },
    {
      "cell_type": "code",
      "source": [
        "# La función coverage devuelve las lineas ejecutadas sin duplicados, pero en desorden, así que la ordenaremos\n",
        "sorted_executed_lines = sorted(cov.coverage(), key=lambda x: (x[1]))\n",
        "\n",
        "# Además, filtraremos las lineas ejecutadas de categorize_product_quality\n",
        "f_covered_lines = list(filter(lambda item: item[0] == 'categorize_product_quality', sorted_executed_lines))\n",
        "\n",
        "# Luego, imprimimos las lineas\n",
        "for item in f_covered_lines:\n",
        "    print(item)"
      ],
      "metadata": {
        "colab": {
          "base_uri": "https://localhost:8080/"
        },
        "id": "3MOsT3GP40Wc",
        "outputId": "d571286e-169c-4d44-e3ff-7e771837b3b1"
      },
      "execution_count": 95,
      "outputs": [
        {
          "output_type": "stream",
          "name": "stdout",
          "text": [
            "('categorize_product_quality', 3)\n",
            "('categorize_product_quality', 6)\n",
            "('categorize_product_quality', 7)\n",
            "('categorize_product_quality', 8)\n",
            "('categorize_product_quality', 10)\n",
            "('categorize_product_quality', 11)\n"
          ]
        }
      ]
    },
    {
      "cell_type": "markdown",
      "source": [
        "## Ejercicio: Branch Coverage\n",
        "\n",
        "Crea la clase `BranchCoverage` que herede de la clase `Coverage`. Esta clase puede recibir como parámetro una lista de cadenas, donde cada cadena representa el nombre de un método/función objetivo que le interesa reportar, si es que no recibe dicha lista por defecto se rastrean todos los métodos/funciones.\n",
        "\n",
        "Además, la clase `BranchCoverage` sobre-escribe el método `coverage`. Este método debe devolver los pares consecutivos de lineas que fueron ejecutados al menos una vez. El retorno corresponde a una lista de tuplas con el formato `list[tuple[str, int]]`.\n",
        "\n",
        "**La lista debe retornarse ordenada**.\n"
      ],
      "metadata": {
        "id": "0xi_NIZY5zsU"
      }
    },
    {
      "cell_type": "code",
      "source": [
        "class BranchCoverage(Coverage):\n",
        "    def __init__(self, target_functions=None):\n",
        "        super().__init__()\n",
        "        # Guardamos la lista de funciones objetivo. Si es None, se consideran todas las funciones.\n",
        "        self.target_functions = target_functions\n",
        "\n",
        "    def coverage(self):\n",
        "        # Obtenemos el rastro completo de ejecución, incluyendo todas las llamadas a funciones\n",
        "        trace = self.trace()\n",
        "\n",
        "        # Usamos un set para guardar los pares únicos de líneas ejecutadas de forma consecutiva\n",
        "        branch_pairs = set()\n",
        "\n",
        "        # Recorremos todos los pares consecutivos del trace\n",
        "        for i in range(len(trace) - 1):\n",
        "            current = trace[i]\n",
        "            next_ = trace[i + 1]\n",
        "\n",
        "            # Solo nos interesan pares dentro de la misma función\n",
        "            if current[0] == next_[0]:\n",
        "                # Si se especificaron funciones objetivo, filtramos por nombre\n",
        "                if self.target_functions is None or current[0] in self.target_functions:\n",
        "                    branch_pairs.add((current, next_))\n",
        "\n",
        "        # Convertimos a lista y ordenamos los pares por número de línea\n",
        "        return sorted(branch_pairs, key=lambda x: (x[0][1], x[1][1]))\n"
      ],
      "metadata": {
        "id": "Fd7HiVQfACXW"
      },
      "execution_count": 96,
      "outputs": []
    },
    {
      "cell_type": "code",
      "source": [
        "### Obtenemos el coverage de tu implementación con un input de ejemplo:\n",
        "with BranchCoverage(['categorize_product_quality']) as bcov:\n",
        "    assert categorize_product_quality(50) == \"Good\" # test 1\n",
        "    assert categorize_product_quality(20) == \"Poor\" # test 2\n",
        "\n",
        "covered_pairs = bcov.coverage()\n",
        "\n",
        "# Visualiza tu implementación. Recuerda que debe estar ordenado:\n",
        "for item in covered_pairs:\n",
        "    print(item)\n"
      ],
      "metadata": {
        "id": "pip5JaJc65Ld",
        "colab": {
          "base_uri": "https://localhost:8080/"
        },
        "outputId": "581cd29f-cfaf-4f88-b7da-d817a7885b5f"
      },
      "execution_count": 97,
      "outputs": [
        {
          "output_type": "stream",
          "name": "stdout",
          "text": [
            "(('categorize_product_quality', 3), ('categorize_product_quality', 6))\n",
            "(('categorize_product_quality', 6), ('categorize_product_quality', 7))\n",
            "(('categorize_product_quality', 6), ('categorize_product_quality', 8))\n",
            "(('categorize_product_quality', 8), ('categorize_product_quality', 10))\n",
            "(('categorize_product_quality', 10), ('categorize_product_quality', 11))\n",
            "(('categorize_product_quality', 11), ('categorize_product_quality', 3))\n"
          ]
        }
      ]
    },
    {
      "cell_type": "markdown",
      "source": [
        "## Tests\n",
        "\n",
        "A continuación puedes testear tu implementación siguiendo el ejemplo que se vio en clases."
      ],
      "metadata": {
        "id": "ZRthlh00nFW2"
      }
    },
    {
      "cell_type": "code",
      "source": [
        "def cgi_decode(s: str) -> str:\n",
        "    \"\"\"Decode the CGI-encoded string `s`:\n",
        "       * replace '+' by ' '\n",
        "       * replace \"%xx\" by the character with hex number xx.\n",
        "       Return the decoded string.  Raise `ValueError` for invalid inputs.\"\"\"\n",
        "\n",
        "    # Mapping of hex digits to their integer values\n",
        "    hex_values = {\n",
        "        '0': 0, '1': 1, '2': 2, '3': 3, '4': 4,\n",
        "        '5': 5, '6': 6, '7': 7, '8': 8, '9': 9,\n",
        "        'a': 10, 'b': 11, 'c': 12, 'd': 13, 'e': 14, 'f': 15,\n",
        "        'A': 10, 'B': 11, 'C': 12, 'D': 13, 'E': 14, 'F': 15,\n",
        "    }\n",
        "\n",
        "    t = \"\"\n",
        "    i = 0\n",
        "    while i < len(s):\n",
        "        c = s[i]\n",
        "        if c == '+':\n",
        "            t += ' '\n",
        "        elif c == '%':\n",
        "            digit_high, digit_low = s[i + 1], s[i + 2]\n",
        "            i += 2\n",
        "            if digit_high in hex_values and digit_low in hex_values:\n",
        "                v = hex_values[digit_high] * 16 + hex_values[digit_low]\n",
        "                t += chr(v)\n",
        "            else:\n",
        "                raise ValueError(\"Invalid encoding\")\n",
        "        else:\n",
        "            t += c\n",
        "        i += 1\n",
        "    return t"
      ],
      "metadata": {
        "id": "RBVODWg0qPIi"
      },
      "execution_count": 98,
      "outputs": []
    },
    {
      "cell_type": "code",
      "source": [
        "import unittest\n",
        "\n",
        "def execute_student_implentation(string_input):\n",
        "  with BranchCoverage(['cgi_decode']) as bcov:\n",
        "    cgi_decode(string_input)\n",
        "  cgi_covered_pairs = bcov.coverage()\n",
        "  return cgi_covered_pairs\n",
        "\n",
        "class TestBranchCoverage(unittest.TestCase):\n",
        "  def test_branch_coverage_implementation_plus(self):\n",
        "    cgi_covered_pairs = execute_student_implentation(\"a+b\")\n",
        "    expected_covered_pairs = [\n",
        "        (('cgi_decode', 8), ('cgi_decode', 9)),\n",
        "        (('cgi_decode', 8), ('cgi_decode', 10)),\n",
        "        (('cgi_decode', 8), ('cgi_decode', 11)),\n",
        "        (('cgi_decode', 8), ('cgi_decode', 12)),\n",
        "        (('cgi_decode', 8), ('cgi_decode', 15)),\n",
        "        (('cgi_decode', 9), ('cgi_decode', 8)),\n",
        "        (('cgi_decode', 10), ('cgi_decode', 8)),\n",
        "        (('cgi_decode', 11), ('cgi_decode', 8)),\n",
        "        (('cgi_decode', 12), ('cgi_decode', 8)),\n",
        "        (('cgi_decode', 15), ('cgi_decode', 16)),\n",
        "        (('cgi_decode', 16), ('cgi_decode', 17)),\n",
        "        (('cgi_decode', 17), ('cgi_decode', 18)),\n",
        "        (('cgi_decode', 17), ('cgi_decode', 32)),\n",
        "        (('cgi_decode', 18), ('cgi_decode', 19)),\n",
        "        (('cgi_decode', 19), ('cgi_decode', 20)),\n",
        "        (('cgi_decode', 19), ('cgi_decode', 21)),\n",
        "        (('cgi_decode', 20), ('cgi_decode', 31)),\n",
        "        (('cgi_decode', 21), ('cgi_decode', 30)),\n",
        "        (('cgi_decode', 30), ('cgi_decode', 31)),\n",
        "        (('cgi_decode', 31), ('cgi_decode', 17))]\n",
        "    self.assertEqual (cgi_covered_pairs, expected_covered_pairs,\n",
        "                      \"Test failed: Covered pairs do not match expected values for a+b.\")\n",
        "\n",
        "  def test_branch_coverage_implementation_only_letters(self):\n",
        "    cgi_covered_pairs = execute_student_implentation(\"abc\")\n",
        "    expected_covered_pairs = [\n",
        "        (('cgi_decode', 8), ('cgi_decode', 9)),\n",
        "        (('cgi_decode', 8), ('cgi_decode', 10)),\n",
        "        (('cgi_decode', 8), ('cgi_decode', 11)),\n",
        "        (('cgi_decode', 8), ('cgi_decode', 12)),\n",
        "        (('cgi_decode', 8), ('cgi_decode', 15)),\n",
        "        (('cgi_decode', 9), ('cgi_decode', 8)),\n",
        "        (('cgi_decode', 10), ('cgi_decode', 8)),\n",
        "        (('cgi_decode', 11), ('cgi_decode', 8)),\n",
        "        (('cgi_decode', 12), ('cgi_decode', 8)),\n",
        "        (('cgi_decode', 15), ('cgi_decode', 16)),\n",
        "        (('cgi_decode', 16), ('cgi_decode', 17)),\n",
        "        (('cgi_decode', 17), ('cgi_decode', 18)),\n",
        "        (('cgi_decode', 17), ('cgi_decode', 32)),\n",
        "        (('cgi_decode', 18), ('cgi_decode', 19)),\n",
        "        (('cgi_decode', 19), ('cgi_decode', 21)),\n",
        "        (('cgi_decode', 21), ('cgi_decode', 30)),\n",
        "        (('cgi_decode', 30), ('cgi_decode', 31)),\n",
        "        (('cgi_decode', 31), ('cgi_decode', 17))]\n",
        "    self.assertEqual (cgi_covered_pairs, expected_covered_pairs,\n",
        "                      \"Test failed: Covered pairs do not match expected values for abc.\")\n",
        "\n",
        "  def test_branch_coverage_implementation_empty_string(self):\n",
        "    cgi_covered_pairs = execute_student_implentation(\"\")\n",
        "    expected_covered_pairs = [\n",
        "        (('cgi_decode', 8), ('cgi_decode', 9)),\n",
        "        (('cgi_decode', 8), ('cgi_decode', 10)),\n",
        "        (('cgi_decode', 8), ('cgi_decode', 11)),\n",
        "        (('cgi_decode', 8), ('cgi_decode', 12)),\n",
        "        (('cgi_decode', 8), ('cgi_decode', 15)),\n",
        "        (('cgi_decode', 9), ('cgi_decode', 8)),\n",
        "        (('cgi_decode', 10), ('cgi_decode', 8)),\n",
        "        (('cgi_decode', 11), ('cgi_decode', 8)),\n",
        "        (('cgi_decode', 12), ('cgi_decode', 8)),\n",
        "        (('cgi_decode', 15), ('cgi_decode', 16)),\n",
        "        (('cgi_decode', 16), ('cgi_decode', 17)),\n",
        "        (('cgi_decode', 17), ('cgi_decode', 32))]\n",
        "    self.assertEqual (cgi_covered_pairs, expected_covered_pairs,\n",
        "                      \"Test failed: Covered pairs do not match expected values for empty string.\")\n",
        "\n",
        "  def test_branch_coverage_implementation_full(self):\n",
        "    cgi_covered_pairs = execute_student_implentation(\"%20+%40+%21+%40\")\n",
        "    expected_covered_pairs = [\n",
        "        (('cgi_decode', 8), ('cgi_decode', 9)),\n",
        "        (('cgi_decode', 8), ('cgi_decode', 10)),\n",
        "        (('cgi_decode', 8), ('cgi_decode', 11)),\n",
        "        (('cgi_decode', 8), ('cgi_decode', 12)),\n",
        "        (('cgi_decode', 8), ('cgi_decode', 15)),\n",
        "        (('cgi_decode', 9), ('cgi_decode', 8)),\n",
        "        (('cgi_decode', 10), ('cgi_decode', 8)),\n",
        "        (('cgi_decode', 11), ('cgi_decode', 8)),\n",
        "        (('cgi_decode', 12), ('cgi_decode', 8)),\n",
        "        (('cgi_decode', 15), ('cgi_decode', 16)),\n",
        "        (('cgi_decode', 16), ('cgi_decode', 17)),\n",
        "        (('cgi_decode', 17), ('cgi_decode', 18)),\n",
        "        (('cgi_decode', 17), ('cgi_decode', 32)),\n",
        "        (('cgi_decode', 18), ('cgi_decode', 19)),\n",
        "        (('cgi_decode', 19), ('cgi_decode', 20)),\n",
        "        (('cgi_decode', 19), ('cgi_decode', 21)),\n",
        "        (('cgi_decode', 20), ('cgi_decode', 31)),\n",
        "        (('cgi_decode', 21), ('cgi_decode', 22)),\n",
        "        (('cgi_decode', 22), ('cgi_decode', 23)),\n",
        "        (('cgi_decode', 23), ('cgi_decode', 24)),\n",
        "        (('cgi_decode', 24), ('cgi_decode', 25)),\n",
        "        (('cgi_decode', 25), ('cgi_decode', 26)),\n",
        "        (('cgi_decode', 26), ('cgi_decode', 31)),\n",
        "        (('cgi_decode', 31), ('cgi_decode', 17))]\n",
        "    self.assertEqual (cgi_covered_pairs, expected_covered_pairs, \"Test failed: Covered pairs do not match expected values for full string.\")\n",
        "\n",
        "def runTests(testClass):\n",
        "  loader = unittest.TestLoader()\n",
        "  suite = loader.loadTestsFromTestCase(testClass)\n",
        "  runner = unittest.TextTestRunner()\n",
        "  runner.run(suite)\n",
        "runTests(TestBranchCoverage)\n"
      ],
      "metadata": {
        "id": "GdgdJuxA-yEb",
        "colab": {
          "base_uri": "https://localhost:8080/"
        },
        "outputId": "e7b5de01-a77c-41c5-a184-082845aec8e0"
      },
      "execution_count": 99,
      "outputs": [
        {
          "output_type": "stream",
          "name": "stderr",
          "text": [
            "....\n",
            "----------------------------------------------------------------------\n",
            "Ran 4 tests in 0.006s\n",
            "\n",
            "OK\n"
          ]
        }
      ]
    }
  ]
}